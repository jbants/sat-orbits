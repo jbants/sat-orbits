{
 "cells": [
  {
   "cell_type": "markdown",
   "metadata": {},
   "source": [
    "# Purpose\n",
    "\n",
    "This notebook looks at current satellite orbit parameters with the aim to determine EO coverage in the polar regions."
   ]
  },
  {
   "cell_type": "markdown",
   "metadata": {},
   "source": [
    "### Get the data"
   ]
  },
  {
   "cell_type": "markdown",
   "metadata": {},
   "source": [
    "Begin by downloading the latest satellite data from the Union of Concerned Scientists.\n",
    "http://www.ucsusa.org/satellite_database "
   ]
  },
  {
   "cell_type": "code",
   "execution_count": 1,
   "metadata": {},
   "outputs": [],
   "source": [
    "import pandas as pd\n",
    "import seaborn as sns\n",
    "import numpy as np\n",
    "import matplotlib.pyplot as plt\n",
    "import matplotlib.patches as mpatches\n"
   ]
  },
  {
   "cell_type": "code",
   "execution_count": 2,
   "metadata": {},
   "outputs": [
    {
     "name": "stdout",
     "output_type": "stream",
     "text": [
      "Index(['Name of Satellite, Alternate Names',\n",
      "       'Current Official Name of Satellite', 'Country/Org of UN Registry',\n",
      "       'Country of Operator/Owner', 'Operator/Owner', 'Users', 'Purpose',\n",
      "       'Detailed Purpose', 'Class of Orbit', 'Type of Orbit',\n",
      "       'Longitude of GEO (degrees)', 'Perigee (km)', 'Apogee (km)',\n",
      "       'Eccentricity', 'Inclination (degrees)', 'Period (minutes)',\n",
      "       'Launch Mass (kg.)', 'Dry Mass (kg.)', 'Power (watts)',\n",
      "       'Date of Launch', 'Expected Lifetime (yrs.)', 'Contractor',\n",
      "       'Country of Contractor', 'Launch Site', 'Launch Vehicle',\n",
      "       'COSPAR Number', 'NORAD Number', 'Comments', 'Unnamed: 28',\n",
      "       'Source Used for Orbital Data', 'Source', 'Source.1', 'Source.2',\n",
      "       'Source.3', 'Source.4', 'Source.5', 'Source.6', 'Unnamed: 37',\n",
      "       'Unnamed: 38', 'Unnamed: 39', 'Unnamed: 40', 'Unnamed: 41',\n",
      "       'Unnamed: 42', 'Unnamed: 43', 'Unnamed: 44', 'Unnamed: 45',\n",
      "       'Unnamed: 46', 'Unnamed: 47', 'Unnamed: 48', 'Unnamed: 49',\n",
      "       'Unnamed: 50', 'Unnamed: 51', 'Unnamed: 52', 'Unnamed: 53',\n",
      "       'Unnamed: 54', 'Unnamed: 55', 'Unnamed: 56', 'Unnamed: 57',\n",
      "       'Unnamed: 58', 'Unnamed: 59', 'Unnamed: 60', 'Unnamed: 61',\n",
      "       'Unnamed: 62', 'Unnamed: 63', 'Unnamed: 64', 'Unnamed: 65',\n",
      "       'Unnamed: 66', 'Unnamed: 67'],\n",
      "      dtype='object')\n"
     ]
    }
   ],
   "source": [
    "# load the data and check the column names\n",
    "\n",
    "df = pd.read_csv('./UCS-Satellite-Database-5-1-2023.txt', encoding='latin-1', delimiter=\"\\t\", index_col=None, thousands=',')\n",
    "df.columns = df.columns.str.strip()\n",
    "print(df.columns)"
   ]
  },
  {
   "cell_type": "markdown",
   "metadata": {},
   "source": [
    "## Do some data cleanup"
   ]
  },
  {
   "cell_type": "markdown",
   "metadata": {},
   "source": [
    "Use the Kaggle Notebook for guidance on data cleaning UCS data.\n",
    "https://www.kaggle.com/code/luisemiliani/exploring-the-ucs-satellite-database#Data-Source:-the-Union-of-Concerned-Scientists-(UCS)-satellite-database "
   ]
  },
  {
   "cell_type": "code",
   "execution_count": 3,
   "metadata": {},
   "outputs": [
    {
     "data": {
      "text/html": [
       "<div>\n",
       "<style scoped>\n",
       "    .dataframe tbody tr th:only-of-type {\n",
       "        vertical-align: middle;\n",
       "    }\n",
       "\n",
       "    .dataframe tbody tr th {\n",
       "        vertical-align: top;\n",
       "    }\n",
       "\n",
       "    .dataframe thead th {\n",
       "        text-align: right;\n",
       "    }\n",
       "</style>\n",
       "<table border=\"1\" class=\"dataframe\">\n",
       "  <thead>\n",
       "    <tr style=\"text-align: right;\">\n",
       "      <th></th>\n",
       "      <th>Name of Satellite, Alternate Names</th>\n",
       "      <th>Current Official Name of Satellite</th>\n",
       "      <th>Country/Org of UN Registry</th>\n",
       "      <th>Country of Operator/Owner</th>\n",
       "      <th>Operator/Owner</th>\n",
       "      <th>Users</th>\n",
       "      <th>Purpose</th>\n",
       "      <th>Detailed Purpose</th>\n",
       "      <th>Class of Orbit</th>\n",
       "      <th>Type of Orbit</th>\n",
       "      <th>...</th>\n",
       "      <th>Power (watts)</th>\n",
       "      <th>Date of Launch</th>\n",
       "      <th>Expected Lifetime (yrs.)</th>\n",
       "      <th>Contractor</th>\n",
       "      <th>Country of Contractor</th>\n",
       "      <th>Launch Site</th>\n",
       "      <th>Launch Vehicle</th>\n",
       "      <th>COSPAR Number</th>\n",
       "      <th>NORAD Number</th>\n",
       "      <th>Comments</th>\n",
       "    </tr>\n",
       "  </thead>\n",
       "  <tbody>\n",
       "    <tr>\n",
       "      <th>0</th>\n",
       "      <td>1HOPSAT-TD (1st-generation High Optical Perfor...</td>\n",
       "      <td>1HOPSAT-TD</td>\n",
       "      <td>NR</td>\n",
       "      <td>USA</td>\n",
       "      <td>Hera Systems</td>\n",
       "      <td>Commercial</td>\n",
       "      <td>Earth Observation</td>\n",
       "      <td>Infrared Imaging</td>\n",
       "      <td>LEO</td>\n",
       "      <td>Non-Polar Inclined</td>\n",
       "      <td>...</td>\n",
       "      <td>&lt;NA&gt;</td>\n",
       "      <td>12/11/19</td>\n",
       "      <td>0.5</td>\n",
       "      <td>Hera Systems</td>\n",
       "      <td>USA</td>\n",
       "      <td>Satish Dhawan Space Centre</td>\n",
       "      <td>PSLV</td>\n",
       "      <td>2019-089H</td>\n",
       "      <td>44859</td>\n",
       "      <td>Pathfinder for planned earth observation const...</td>\n",
       "    </tr>\n",
       "    <tr>\n",
       "      <th>1</th>\n",
       "      <td>AAC AIS-Sat1 (Kelpie 1)</td>\n",
       "      <td>AAC AIS-Sat1Ê(Kelpie 1)</td>\n",
       "      <td>United Kingdom</td>\n",
       "      <td>United Kingdom</td>\n",
       "      <td>AAC Clyde Space</td>\n",
       "      <td>Commercial</td>\n",
       "      <td>Earth Observation</td>\n",
       "      <td>Automatic Identification System (AIS)</td>\n",
       "      <td>LEO</td>\n",
       "      <td>Sun-Synchronous</td>\n",
       "      <td>...</td>\n",
       "      <td>&lt;NA&gt;</td>\n",
       "      <td>1/3/23</td>\n",
       "      <td>&lt;NA&gt;</td>\n",
       "      <td>AAC Clyde Space</td>\n",
       "      <td>Sweden/UK/USA/Netherlands</td>\n",
       "      <td>Cape Canaveral</td>\n",
       "      <td>Falcon 9</td>\n",
       "      <td>2023-001DC</td>\n",
       "      <td>55107</td>\n",
       "      <td>Provide AIS information to Orbcomm.</td>\n",
       "    </tr>\n",
       "    <tr>\n",
       "      <th>2</th>\n",
       "      <td>Aalto-1</td>\n",
       "      <td>Aalto-1</td>\n",
       "      <td>Finland</td>\n",
       "      <td>Finland</td>\n",
       "      <td>Aalto University</td>\n",
       "      <td>Civil</td>\n",
       "      <td>Technology Development</td>\n",
       "      <td>&lt;NA&gt;</td>\n",
       "      <td>LEO</td>\n",
       "      <td>Sun-Synchronous</td>\n",
       "      <td>...</td>\n",
       "      <td>4.50</td>\n",
       "      <td>6/23/17</td>\n",
       "      <td>2.0</td>\n",
       "      <td>Aalto University</td>\n",
       "      <td>Finland</td>\n",
       "      <td>Satish Dhawan Space Centre</td>\n",
       "      <td>PSLV</td>\n",
       "      <td>2017-036L</td>\n",
       "      <td>42775</td>\n",
       "      <td>Technology development and education.</td>\n",
       "    </tr>\n",
       "  </tbody>\n",
       "</table>\n",
       "<p>3 rows × 28 columns</p>\n",
       "</div>"
      ],
      "text/plain": [
       "                  Name of Satellite, Alternate Names  \\\n",
       "0  1HOPSAT-TD (1st-generation High Optical Perfor...   \n",
       "1                            AAC AIS-Sat1 (Kelpie 1)   \n",
       "2                                           Aalto-1    \n",
       "\n",
       "  Current Official Name of Satellite Country/Org of UN Registry  \\\n",
       "0                         1HOPSAT-TD                         NR   \n",
       "1            AAC AIS-Sat1Ê(Kelpie 1)             United Kingdom   \n",
       "2                            Aalto-1                    Finland   \n",
       "\n",
       "  Country of Operator/Owner    Operator/Owner       Users  \\\n",
       "0                       USA      Hera Systems  Commercial   \n",
       "1            United Kingdom   AAC Clyde Space  Commercial   \n",
       "2                   Finland  Aalto University       Civil   \n",
       "\n",
       "                  Purpose                       Detailed Purpose  \\\n",
       "0       Earth Observation                       Infrared Imaging   \n",
       "1       Earth Observation  Automatic Identification System (AIS)   \n",
       "2  Technology Development                                   <NA>   \n",
       "\n",
       "  Class of Orbit       Type of Orbit  ...  Power (watts)  Date of Launch  \\\n",
       "0            LEO  Non-Polar Inclined  ...           <NA>        12/11/19   \n",
       "1            LEO     Sun-Synchronous  ...           <NA>          1/3/23   \n",
       "2            LEO     Sun-Synchronous  ...           4.50         6/23/17   \n",
       "\n",
       "   Expected Lifetime (yrs.)        Contractor      Country of Contractor  \\\n",
       "0                       0.5      Hera Systems                        USA   \n",
       "1                      <NA>   AAC Clyde Space  Sweden/UK/USA/Netherlands   \n",
       "2                       2.0  Aalto University                    Finland   \n",
       "\n",
       "                  Launch Site  Launch Vehicle COSPAR Number NORAD Number  \\\n",
       "0  Satish Dhawan Space Centre            PSLV     2019-089H        44859   \n",
       "1              Cape Canaveral        Falcon 9    2023-001DC        55107   \n",
       "2  Satish Dhawan Space Centre            PSLV     2017-036L        42775   \n",
       "\n",
       "                                            Comments  \n",
       "0  Pathfinder for planned earth observation const...  \n",
       "1                Provide AIS information to Orbcomm.  \n",
       "2              Technology development and education.  \n",
       "\n",
       "[3 rows x 28 columns]"
      ]
     },
     "execution_count": 3,
     "metadata": {},
     "output_type": "execute_result"
    }
   ],
   "source": [
    "# Drop unused columns and convert datatypes where possible.\n",
    "\n",
    "df.drop(list(df.filter(regex='Source|Unnamed')), axis=1, inplace=True)\n",
    "df.convert_dtypes().head(3)"
   ]
  },
  {
   "cell_type": "code",
   "execution_count": 4,
   "metadata": {},
   "outputs": [
    {
     "name": "stdout",
     "output_type": "stream",
     "text": [
      "There are 2 satellites without a name in the dataset.\n"
     ]
    }
   ],
   "source": [
    "# How many satellites without a name are in the dataset?\n",
    "\n",
    "text = df['Name of Satellite, Alternate Names'].isna().sum()\n",
    "print(f'There are {text} satellites without a name in the dataset.')\n",
    "# drop any rows with missing values in the 'Name of Satellite, Alternate Names' column\n",
    "df.dropna(subset=['Name of Satellite, Alternate Names'], inplace=True)"
   ]
  },
  {
   "cell_type": "code",
   "execution_count": 5,
   "metadata": {},
   "outputs": [
    {
     "name": "stdout",
     "output_type": "stream",
     "text": [
      " Users. Labels before cleaning : 20\n",
      " Purpose. Labels before cleaning : 31\n",
      " Class of Orbit. Labels before cleaning : 5\n",
      " Type of Orbit. Labels before cleaning : 11\n",
      " -----------------------------------------------------------------------------\n",
      " Users. Labels AFTER cleaning : 17\n",
      " Purpose. Labels AFTER cleaning : 30\n",
      " Class of Orbit. Labels AFTER cleaning : 5\n",
      " Type of Orbit. Labels AFTER cleaning : 11\n"
     ]
    }
   ],
   "source": [
    "# remove extraneous spaces that result in multiple copies of a category\n",
    "\n",
    "print(' Users. Labels before cleaning : {}'.format(len( df['Users'].unique() ) ) )\n",
    "print(' Purpose. Labels before cleaning : {}'.format(len( df['Purpose'].unique() ) ) )  \n",
    "print(' Class of Orbit. Labels before cleaning : {}'.format(len( df['Class of Orbit'].unique() ) ) )  \n",
    "print(' Type of Orbit. Labels before cleaning : {}'.format(len( df['Type of Orbit'].unique() ) ) )  \n",
    "\n",
    "df['Users']=df['Users'].str.strip()\n",
    "df['Purpose']=df['Purpose'].str.strip()\n",
    "df['Class of Orbit']=df['Class of Orbit'].str.strip()\n",
    "df['Type of Orbit']=df['Type of Orbit'].str.strip()\n",
    "\n",
    "print(' -----------------------------------------------------------------------------')\n",
    "print(' Users. Labels AFTER cleaning : {}'.format(len( df['Users'].unique() ) ) )\n",
    "print(' Purpose. Labels AFTER cleaning : {}'.format(len( df['Purpose'].unique() ) ) )  \n",
    "print(' Class of Orbit. Labels AFTER cleaning : {}'.format(len( df['Class of Orbit'].unique() ) ) )\n",
    "print(' Type of Orbit. Labels AFTER cleaning : {}'.format(len( df['Type of Orbit'].unique() ) ) )  "
   ]
  },
  {
   "cell_type": "code",
   "execution_count": 6,
   "metadata": {},
   "outputs": [],
   "source": [
    "# Make all the orbit data uppercase to properly match\n",
    "\n",
    "df['Class of Orbit'] = df['Class of Orbit'].str.upper().astype('category')\n",
    "df['Type of Orbit'] = df['Type of Orbit'].str.upper().astype('category')"
   ]
  },
  {
   "cell_type": "code",
   "execution_count": 7,
   "metadata": {},
   "outputs": [
    {
     "name": "stdout",
     "output_type": "stream",
     "text": [
      "240    NaT\n",
      "349    NaT\n",
      "7186   NaT\n",
      "Name: Date of Launch, dtype: datetime64[ns]\n"
     ]
    },
    {
     "name": "stderr",
     "output_type": "stream",
     "text": [
      "/tmp/ipykernel_70197/1092443254.py:4: UserWarning: Could not infer format, so each element will be parsed individually, falling back to `dateutil`. To ensure parsing is consistent and as-expected, please specify a format.\n",
      "  parsed_date_of_launch = pd.to_datetime(df['Date of Launch'], errors='coerce').sort_values()\n"
     ]
    }
   ],
   "source": [
    "# Make the date of launch a datetime object and check any NAN values.\n",
    "# N.B. Satellogic have two \n",
    "\n",
    "parsed_date_of_launch = pd.to_datetime(df['Date of Launch'], errors='coerce').sort_values()\n",
    "# determine if there are any data points not correctly formatted\n",
    "print(parsed_date_of_launch.loc[np.isnat(parsed_date_of_launch)])"
   ]
  },
  {
   "cell_type": "code",
   "execution_count": 8,
   "metadata": {},
   "outputs": [
    {
     "data": {
      "text/html": [
       "<div>\n",
       "<style scoped>\n",
       "    .dataframe tbody tr th:only-of-type {\n",
       "        vertical-align: middle;\n",
       "    }\n",
       "\n",
       "    .dataframe tbody tr th {\n",
       "        vertical-align: top;\n",
       "    }\n",
       "\n",
       "    .dataframe thead th {\n",
       "        text-align: right;\n",
       "    }\n",
       "</style>\n",
       "<table border=\"1\" class=\"dataframe\">\n",
       "  <thead>\n",
       "    <tr style=\"text-align: right;\">\n",
       "      <th></th>\n",
       "      <th>Name of Satellite, Alternate Names</th>\n",
       "      <th>NORAD Number</th>\n",
       "      <th>Date of Launch</th>\n",
       "    </tr>\n",
       "  </thead>\n",
       "  <tbody>\n",
       "    <tr>\n",
       "      <th>240</th>\n",
       "      <td>BlackSky Global 5</td>\n",
       "      <td>55983.0</td>\n",
       "      <td>NaN</td>\n",
       "    </tr>\n",
       "    <tr>\n",
       "      <th>349</th>\n",
       "      <td>Cicero-8 (Community Initiative for Cellular Ea...</td>\n",
       "      <td>43737.0</td>\n",
       "      <td>11/29/018</td>\n",
       "    </tr>\n",
       "    <tr>\n",
       "      <th>7186</th>\n",
       "      <td>Tianmu-1 01</td>\n",
       "      <td>55134.0</td>\n",
       "      <td>1/9//2023</td>\n",
       "    </tr>\n",
       "  </tbody>\n",
       "</table>\n",
       "</div>"
      ],
      "text/plain": [
       "                     Name of Satellite, Alternate Names  NORAD Number  \\\n",
       "240                                   BlackSky Global 5       55983.0   \n",
       "349   Cicero-8 (Community Initiative for Cellular Ea...       43737.0   \n",
       "7186                                        Tianmu-1 01       55134.0   \n",
       "\n",
       "     Date of Launch  \n",
       "240             NaN  \n",
       "349       11/29/018  \n",
       "7186      1/9//2023  "
      ]
     },
     "execution_count": 8,
     "metadata": {},
     "output_type": "execute_result"
    }
   ],
   "source": [
    "# Ugly data\n",
    "\n",
    "df.loc[ np.isnat(parsed_date_of_launch), ['Name of Satellite, Alternate Names','NORAD Number','Date of Launch'] ]"
   ]
  },
  {
   "cell_type": "code",
   "execution_count": 9,
   "metadata": {},
   "outputs": [
    {
     "data": {
      "text/html": [
       "<div>\n",
       "<style scoped>\n",
       "    .dataframe tbody tr th:only-of-type {\n",
       "        vertical-align: middle;\n",
       "    }\n",
       "\n",
       "    .dataframe tbody tr th {\n",
       "        vertical-align: top;\n",
       "    }\n",
       "\n",
       "    .dataframe thead th {\n",
       "        text-align: right;\n",
       "    }\n",
       "</style>\n",
       "<table border=\"1\" class=\"dataframe\">\n",
       "  <thead>\n",
       "    <tr style=\"text-align: right;\">\n",
       "      <th></th>\n",
       "      <th>Name of Satellite, Alternate Names</th>\n",
       "      <th>NORAD Number</th>\n",
       "      <th>Date of Launch</th>\n",
       "    </tr>\n",
       "  </thead>\n",
       "  <tbody>\n",
       "    <tr>\n",
       "      <th>240</th>\n",
       "      <td>BlackSky Global 5</td>\n",
       "      <td>55983.0</td>\n",
       "      <td>2023-03-24 00:00:00</td>\n",
       "    </tr>\n",
       "    <tr>\n",
       "      <th>349</th>\n",
       "      <td>Cicero-8 (Community Initiative for Cellular Ea...</td>\n",
       "      <td>43737.0</td>\n",
       "      <td>2018-11-29 00:00:00</td>\n",
       "    </tr>\n",
       "    <tr>\n",
       "      <th>7186</th>\n",
       "      <td>Tianmu-1 01</td>\n",
       "      <td>55134.0</td>\n",
       "      <td>2023-09-01 00:00:00</td>\n",
       "    </tr>\n",
       "  </tbody>\n",
       "</table>\n",
       "</div>"
      ],
      "text/plain": [
       "                     Name of Satellite, Alternate Names  NORAD Number  \\\n",
       "240                                   BlackSky Global 5       55983.0   \n",
       "349   Cicero-8 (Community Initiative for Cellular Ea...       43737.0   \n",
       "7186                                        Tianmu-1 01       55134.0   \n",
       "\n",
       "           Date of Launch  \n",
       "240   2023-03-24 00:00:00  \n",
       "349   2018-11-29 00:00:00  \n",
       "7186  2023-09-01 00:00:00  "
      ]
     },
     "execution_count": 9,
     "metadata": {},
     "output_type": "execute_result"
    }
   ],
   "source": [
    "# Fix the dates based on secondary sources\n",
    "\n",
    "df.loc[ np.isnat(parsed_date_of_launch), 'Date of Launch'] = pd.to_datetime([\"03/24/2023\", \"11/29/2018\", \"09/01/2023\"])\n",
    "df.loc[ np.isnat(parsed_date_of_launch), ['Name of Satellite, Alternate Names','NORAD Number','Date of Launch'] ]"
   ]
  },
  {
   "cell_type": "code",
   "execution_count": 10,
   "metadata": {},
   "outputs": [
    {
     "name": "stderr",
     "output_type": "stream",
     "text": [
      "/tmp/ipykernel_70197/2222867912.py:2: UserWarning: Could not infer format, so each element will be parsed individually, falling back to `dateutil`. To ensure parsing is consistent and as-expected, please specify a format.\n",
      "  df['Date of Launch'] = pd.to_datetime(df['Date of Launch'])\n"
     ]
    },
    {
     "data": {
      "text/html": [
       "<div>\n",
       "<style scoped>\n",
       "    .dataframe tbody tr th:only-of-type {\n",
       "        vertical-align: middle;\n",
       "    }\n",
       "\n",
       "    .dataframe tbody tr th {\n",
       "        vertical-align: top;\n",
       "    }\n",
       "\n",
       "    .dataframe thead th {\n",
       "        text-align: right;\n",
       "    }\n",
       "</style>\n",
       "<table border=\"1\" class=\"dataframe\">\n",
       "  <thead>\n",
       "    <tr style=\"text-align: right;\">\n",
       "      <th></th>\n",
       "      <th>Name of Satellite, Alternate Names</th>\n",
       "      <th>Current Official Name of Satellite</th>\n",
       "      <th>Country/Org of UN Registry</th>\n",
       "      <th>Country of Operator/Owner</th>\n",
       "      <th>Operator/Owner</th>\n",
       "      <th>Users</th>\n",
       "      <th>Purpose</th>\n",
       "      <th>Detailed Purpose</th>\n",
       "      <th>Class of Orbit</th>\n",
       "      <th>Type of Orbit</th>\n",
       "      <th>...</th>\n",
       "      <th>Power (watts)</th>\n",
       "      <th>Date of Launch</th>\n",
       "      <th>Expected Lifetime (yrs.)</th>\n",
       "      <th>Contractor</th>\n",
       "      <th>Country of Contractor</th>\n",
       "      <th>Launch Site</th>\n",
       "      <th>Launch Vehicle</th>\n",
       "      <th>COSPAR Number</th>\n",
       "      <th>NORAD Number</th>\n",
       "      <th>Comments</th>\n",
       "    </tr>\n",
       "    <tr>\n",
       "      <th>Date of Launch</th>\n",
       "      <th></th>\n",
       "      <th></th>\n",
       "      <th></th>\n",
       "      <th></th>\n",
       "      <th></th>\n",
       "      <th></th>\n",
       "      <th></th>\n",
       "      <th></th>\n",
       "      <th></th>\n",
       "      <th></th>\n",
       "      <th></th>\n",
       "      <th></th>\n",
       "      <th></th>\n",
       "      <th></th>\n",
       "      <th></th>\n",
       "      <th></th>\n",
       "      <th></th>\n",
       "      <th></th>\n",
       "      <th></th>\n",
       "      <th></th>\n",
       "      <th></th>\n",
       "    </tr>\n",
       "  </thead>\n",
       "  <tbody>\n",
       "    <tr>\n",
       "      <th>2023-09-01</th>\n",
       "      <td>Tianmu-1 01</td>\n",
       "      <td>Tianmu-1 01</td>\n",
       "      <td>NR (9/23)</td>\n",
       "      <td>China</td>\n",
       "      <td>Xiyong Microelectrics Park</td>\n",
       "      <td>Commercial</td>\n",
       "      <td>Meteorological</td>\n",
       "      <td>NaN</td>\n",
       "      <td>LEO</td>\n",
       "      <td>SUN-SYNCHRONOUS</td>\n",
       "      <td>...</td>\n",
       "      <td>NaN</td>\n",
       "      <td>2023-09-01</td>\n",
       "      <td>2.0</td>\n",
       "      <td>China Aerospace Science and Technology Corp. (...</td>\n",
       "      <td>China</td>\n",
       "      <td>Jiuquan Satellite Launch Center</td>\n",
       "      <td>Ceres</td>\n",
       "      <td>2023-003B</td>\n",
       "      <td>55134.0</td>\n",
       "      <td>https://www.newspace.im/constellations/xyong-m...</td>\n",
       "    </tr>\n",
       "    <tr>\n",
       "      <th>2023-04-27</th>\n",
       "      <td>Starlink-5552</td>\n",
       "      <td>Starlink-5552</td>\n",
       "      <td>USA</td>\n",
       "      <td>USA</td>\n",
       "      <td>SpaceX</td>\n",
       "      <td>Commercial</td>\n",
       "      <td>Communications</td>\n",
       "      <td>NaN</td>\n",
       "      <td>LEO</td>\n",
       "      <td>SUN-SYNCHRONOUS</td>\n",
       "      <td>...</td>\n",
       "      <td>NaN</td>\n",
       "      <td>2023-04-27</td>\n",
       "      <td>NaN</td>\n",
       "      <td>SpaceX</td>\n",
       "      <td>USA</td>\n",
       "      <td>Cape Canaveral</td>\n",
       "      <td>Falcon 9</td>\n",
       "      <td>2023-058Y</td>\n",
       "      <td>56339.0</td>\n",
       "      <td>NaN</td>\n",
       "    </tr>\n",
       "  </tbody>\n",
       "</table>\n",
       "<p>2 rows × 28 columns</p>\n",
       "</div>"
      ],
      "text/plain": [
       "               Name of Satellite, Alternate Names  \\\n",
       "Date of Launch                                      \n",
       "2023-09-01                            Tianmu-1 01   \n",
       "2023-04-27                          Starlink-5552   \n",
       "\n",
       "               Current Official Name of Satellite Country/Org of UN Registry  \\\n",
       "Date of Launch                                                                 \n",
       "2023-09-01                            Tianmu-1 01                  NR (9/23)   \n",
       "2023-04-27                          Starlink-5552                        USA   \n",
       "\n",
       "               Country of Operator/Owner              Operator/Owner  \\\n",
       "Date of Launch                                                         \n",
       "2023-09-01                         China  Xiyong Microelectrics Park   \n",
       "2023-04-27                           USA                      SpaceX   \n",
       "\n",
       "                     Users         Purpose Detailed Purpose Class of Orbit  \\\n",
       "Date of Launch                                                               \n",
       "2023-09-01      Commercial  Meteorological              NaN            LEO   \n",
       "2023-04-27      Commercial  Communications              NaN            LEO   \n",
       "\n",
       "                  Type of Orbit  ...  Power (watts)  Date of Launch  \\\n",
       "Date of Launch                   ...                                  \n",
       "2023-09-01      SUN-SYNCHRONOUS  ...            NaN      2023-09-01   \n",
       "2023-04-27      SUN-SYNCHRONOUS  ...            NaN      2023-04-27   \n",
       "\n",
       "                Expected Lifetime (yrs.)  \\\n",
       "Date of Launch                             \n",
       "2023-09-01                           2.0   \n",
       "2023-04-27                           NaN   \n",
       "\n",
       "                                                       Contractor  \\\n",
       "Date of Launch                                                      \n",
       "2023-09-01      China Aerospace Science and Technology Corp. (...   \n",
       "2023-04-27                                                 SpaceX   \n",
       "\n",
       "                Country of Contractor                      Launch Site  \\\n",
       "Date of Launch                                                           \n",
       "2023-09-01                      China  Jiuquan Satellite Launch Center   \n",
       "2023-04-27                        USA                   Cape Canaveral   \n",
       "\n",
       "                Launch Vehicle COSPAR Number NORAD Number  \\\n",
       "Date of Launch                                              \n",
       "2023-09-01               Ceres     2023-003B      55134.0   \n",
       "2023-04-27            Falcon 9     2023-058Y      56339.0   \n",
       "\n",
       "                                                         Comments  \n",
       "Date of Launch                                                     \n",
       "2023-09-01      https://www.newspace.im/constellations/xyong-m...  \n",
       "2023-04-27                                                    NaN  \n",
       "\n",
       "[2 rows x 28 columns]"
      ]
     },
     "execution_count": 10,
     "metadata": {},
     "output_type": "execute_result"
    }
   ],
   "source": [
    "# Make the data the index of the dataframe and sort it chronologically\n",
    "df['Date of Launch'] = pd.to_datetime(df['Date of Launch'])\n",
    "df.set_index( df['Date of Launch'], inplace=True )\n",
    "df.sort_index(axis=0, inplace=True, ascending=False)\n",
    "df.head(2)"
   ]
  },
  {
   "cell_type": "code",
   "execution_count": 11,
   "metadata": {},
   "outputs": [
    {
     "name": "stdout",
     "output_type": "stream",
     "text": [
      "<class 'pandas.core.frame.DataFrame'>\n",
      "DatetimeIndex: 7560 entries, 2023-09-01 to 1974-11-15\n",
      "Data columns (total 28 columns):\n",
      " #   Column                              Non-Null Count  Dtype         \n",
      "---  ------                              --------------  -----         \n",
      " 0   Name of Satellite, Alternate Names  7560 non-null   object        \n",
      " 1   Current Official Name of Satellite  7560 non-null   object        \n",
      " 2   Country/Org of UN Registry          7559 non-null   object        \n",
      " 3   Country of Operator/Owner           7560 non-null   object        \n",
      " 4   Operator/Owner                      7560 non-null   object        \n",
      " 5   Users                               7560 non-null   object        \n",
      " 6   Purpose                             7560 non-null   object        \n",
      " 7   Detailed Purpose                    1254 non-null   object        \n",
      " 8   Class of Orbit                      7560 non-null   category      \n",
      " 9   Type of Orbit                       6909 non-null   category      \n",
      " 10  Longitude of GEO (degrees)          7557 non-null   float64       \n",
      " 11  Perigee (km)                        7553 non-null   float64       \n",
      " 12  Apogee (km)                         7553 non-null   float64       \n",
      " 13  Eccentricity                        7549 non-null   float64       \n",
      " 14  Inclination (degrees)               7556 non-null   float64       \n",
      " 15  Period (minutes)                    7504 non-null   float64       \n",
      " 16  Launch Mass (kg.)                   7315 non-null   float64       \n",
      " 17  Dry Mass (kg.)                      767 non-null    object        \n",
      " 18  Power (watts)                       579 non-null    object        \n",
      " 19  Date of Launch                      7560 non-null   datetime64[ns]\n",
      " 20  Expected Lifetime (yrs.)            5450 non-null   float64       \n",
      " 21  Contractor                          7560 non-null   object        \n",
      " 22  Country of Contractor               7560 non-null   object        \n",
      " 23  Launch Site                         7560 non-null   object        \n",
      " 24  Launch Vehicle                      7560 non-null   object        \n",
      " 25  COSPAR Number                       7560 non-null   object        \n",
      " 26  NORAD Number                        7560 non-null   float64       \n",
      " 27  Comments                            2085 non-null   object        \n",
      "dtypes: category(2), datetime64[ns](1), float64(9), object(16)\n",
      "memory usage: 1.6+ MB\n"
     ]
    }
   ],
   "source": [
    "df.info()"
   ]
  },
  {
   "cell_type": "code",
   "execution_count": 12,
   "metadata": {},
   "outputs": [
    {
     "data": {
      "text/plain": [
       "2949"
      ]
     },
     "execution_count": 12,
     "metadata": {},
     "output_type": "execute_result"
    }
   ],
   "source": [
    "# How many satellites operate in the North\n",
    "\n",
    "northern_satellites = df[df['Inclination (degrees)'] >  60]\n",
    "northern_satellites['Type of Orbit'].count()"
   ]
  },
  {
   "cell_type": "code",
   "execution_count": 13,
   "metadata": {},
   "outputs": [
    {
     "data": {
      "text/plain": [
       "Class of Orbit  Type of Orbit             \n",
       "LEO             NON-POLAR INCLINED            3942\n",
       "                SUN-SYNCHRONOUS               1688\n",
       "                POLAR                         1096\n",
       "MEO             NON-POLAR INCLINED              98\n",
       "ELLIPTICAL      MOLNIYA                         23\n",
       "MEO             EQUATORIAL                      20\n",
       "LEO             EQUATORIAL                      18\n",
       "ELLIPTICAL      DEEP HIGHLY ECCENTRIC            9\n",
       "LEO             ELLIPTICAL                       5\n",
       "ELLIPTICAL      SUN-SYNCHRONOUS                  4\n",
       "                NON-POLAR INCLINED               2\n",
       "LEO             SUN-SYNCHRONOUS NEAR POLAR       2\n",
       "ELLIPTICAL      CISLUNAR                         1\n",
       "LEO             RETROGRADE                       1\n",
       "Name: count, dtype: int64"
      ]
     },
     "execution_count": 13,
     "metadata": {},
     "output_type": "execute_result"
    }
   ],
   "source": [
    "# What types of orbits are used by satellites? \n",
    "# N.B. Molniya are typically used for communications and monitoring in high latitudes\n",
    "\n",
    "df[['Class of Orbit', 'Type of Orbit']].value_counts()"
   ]
  },
  {
   "cell_type": "code",
   "execution_count": null,
   "metadata": {},
   "outputs": [],
   "source": []
  },
  {
   "cell_type": "code",
   "execution_count": 14,
   "metadata": {},
   "outputs": [
    {
     "data": {
      "text/plain": [
       "Country of Operator/Owner  Detailed Purpose       \n",
       "Russia                     Early Warning              5\n",
       "USA                        Electronic Intelligence    4\n",
       "                           Data Relay                 2\n",
       "Name: count, dtype: int64"
      ]
     },
     "execution_count": 14,
     "metadata": {},
     "output_type": "execute_result"
    }
   ],
   "source": [
    "molniya_orbits = df[df['Type of Orbit'] == 'MOLNIYA']\n",
    "countries = molniya_orbits[['Country of Operator/Owner', 'Detailed Purpose']].value_counts()\n",
    "countries \n"
   ]
  },
  {
   "cell_type": "code",
   "execution_count": 15,
   "metadata": {},
   "outputs": [
    {
     "name": "stderr",
     "output_type": "stream",
     "text": [
      "/tmp/ipykernel_70197/612075391.py:3: FutureWarning: The default of observed=False is deprecated and will be changed to True in a future version of pandas. Pass observed=False to retain current behavior or observed=True to adopt the future default and silence this warning.\n",
      "  (df.groupby(['Class of Orbit'])\n"
     ]
    },
    {
     "data": {
      "text/html": [
       "<div>\n",
       "<style scoped>\n",
       "    .dataframe tbody tr th:only-of-type {\n",
       "        vertical-align: middle;\n",
       "    }\n",
       "\n",
       "    .dataframe tbody tr th {\n",
       "        vertical-align: top;\n",
       "    }\n",
       "\n",
       "    .dataframe thead tr th {\n",
       "        text-align: left;\n",
       "    }\n",
       "\n",
       "    .dataframe thead tr:last-of-type th {\n",
       "        text-align: right;\n",
       "    }\n",
       "</style>\n",
       "<table border=\"1\" class=\"dataframe\">\n",
       "  <thead>\n",
       "    <tr>\n",
       "      <th></th>\n",
       "      <th colspan=\"3\" halign=\"left\">Apogee (km)</th>\n",
       "      <th colspan=\"3\" halign=\"left\">Perigee (km)</th>\n",
       "    </tr>\n",
       "    <tr>\n",
       "      <th></th>\n",
       "      <th>min</th>\n",
       "      <th>max</th>\n",
       "      <th>count</th>\n",
       "      <th>min</th>\n",
       "      <th>max</th>\n",
       "      <th>count</th>\n",
       "    </tr>\n",
       "    <tr>\n",
       "      <th>Class of Orbit</th>\n",
       "      <th></th>\n",
       "      <th></th>\n",
       "      <th></th>\n",
       "      <th></th>\n",
       "      <th></th>\n",
       "      <th></th>\n",
       "    </tr>\n",
       "  </thead>\n",
       "  <tbody>\n",
       "    <tr>\n",
       "      <th>ELLIPTICAL</th>\n",
       "      <td>689.0</td>\n",
       "      <td>330000.0</td>\n",
       "      <td>59</td>\n",
       "      <td>216.0</td>\n",
       "      <td>62200.0</td>\n",
       "      <td>59</td>\n",
       "    </tr>\n",
       "    <tr>\n",
       "      <th>GEO</th>\n",
       "      <td>35170.0</td>\n",
       "      <td>353798.0</td>\n",
       "      <td>590</td>\n",
       "      <td>198.0</td>\n",
       "      <td>37782.0</td>\n",
       "      <td>590</td>\n",
       "    </tr>\n",
       "    <tr>\n",
       "      <th>LEO</th>\n",
       "      <td>49.0</td>\n",
       "      <td>36343.0</td>\n",
       "      <td>6761</td>\n",
       "      <td>150.0</td>\n",
       "      <td>36236.0</td>\n",
       "      <td>6761</td>\n",
       "    </tr>\n",
       "    <tr>\n",
       "      <th>MEO</th>\n",
       "      <td>1999.0</td>\n",
       "      <td>23618.0</td>\n",
       "      <td>143</td>\n",
       "      <td>1992.0</td>\n",
       "      <td>23551.0</td>\n",
       "      <td>143</td>\n",
       "    </tr>\n",
       "  </tbody>\n",
       "</table>\n",
       "</div>"
      ],
      "text/plain": [
       "               Apogee (km)                 Perigee (km)               \n",
       "                       min       max count          min      max count\n",
       "Class of Orbit                                                        \n",
       "ELLIPTICAL           689.0  330000.0    59        216.0  62200.0    59\n",
       "GEO                35170.0  353798.0   590        198.0  37782.0   590\n",
       "LEO                   49.0   36343.0  6761        150.0  36236.0  6761\n",
       "MEO                 1999.0   23618.0   143       1992.0  23551.0   143"
      ]
     },
     "execution_count": 15,
     "metadata": {},
     "output_type": "execute_result"
    }
   ],
   "source": [
    "# Check for outliers in the data\n",
    "\n",
    "(df.groupby(['Class of Orbit'])\n",
    " .agg({'Apogee (km)': ['min', 'max', 'count'],'Perigee (km)': ['min', 'max', 'count']}\n",
    "))"
   ]
  },
  {
   "cell_type": "code",
   "execution_count": 16,
   "metadata": {},
   "outputs": [
    {
     "name": "stdout",
     "output_type": "stream",
     "text": [
      " Number of outliers in columns Apogee, Perigee, for LEO satellites\n",
      "-------------------------------------------------------------------------\n",
      " Number of data points with value more than 2000 km in Apogee col: 2\n",
      " Number of data points with value less than 100 km in Apogee col: 1\n"
     ]
    }
   ],
   "source": [
    "## identify outliers in the Apogee and Perigee columns\n",
    "isOutApogeePerigeeLEO_idx = ((df['Class of Orbit'] == 'LEO') & (df['Apogee (km)'] > 2000)) | ((df['Class of Orbit'] == 'LEO') & (df['Perigee (km)'] > 2000))\n",
    "#isOutPerigee_idx = ( UCSDB['Class of Orbit'] == 'LEO') & ( UCSDB['Perigee (km)'] >2000 )\n",
    "isUnderApogeeLEO_idx = ( df['Class of Orbit'] == 'LEO') & ( df['Apogee (km)'] < 100 )\n",
    "\n",
    "print(' Number of outliers in columns Apogee, Perigee, for LEO satellites')\n",
    "print('-------------------------------------------------------------------------')\n",
    "print(' Number of data points with value more than 2000 km in Apogee col: {}'.format(isOutApogeePerigeeLEO_idx.sum()))\n",
    "print(' Number of data points with value less than 100 km in Apogee col: {}'.format(isUnderApogeeLEO_idx.sum()))"
   ]
  },
  {
   "cell_type": "code",
   "execution_count": 17,
   "metadata": {},
   "outputs": [
    {
     "data": {
      "text/html": [
       "<div>\n",
       "<style scoped>\n",
       "    .dataframe tbody tr th:only-of-type {\n",
       "        vertical-align: middle;\n",
       "    }\n",
       "\n",
       "    .dataframe tbody tr th {\n",
       "        vertical-align: top;\n",
       "    }\n",
       "\n",
       "    .dataframe thead th {\n",
       "        text-align: right;\n",
       "    }\n",
       "</style>\n",
       "<table border=\"1\" class=\"dataframe\">\n",
       "  <thead>\n",
       "    <tr style=\"text-align: right;\">\n",
       "      <th></th>\n",
       "      <th>Name of Satellite, Alternate Names</th>\n",
       "      <th>NORAD Number</th>\n",
       "      <th>Class of Orbit</th>\n",
       "      <th>Apogee (km)</th>\n",
       "      <th>Perigee (km)</th>\n",
       "    </tr>\n",
       "    <tr>\n",
       "      <th>Date of Launch</th>\n",
       "      <th></th>\n",
       "      <th></th>\n",
       "      <th></th>\n",
       "      <th></th>\n",
       "      <th></th>\n",
       "    </tr>\n",
       "  </thead>\n",
       "  <tbody>\n",
       "    <tr>\n",
       "      <th>2021-11-06</th>\n",
       "      <td>Yaogan 35-5-1</td>\n",
       "      <td>49390.0</td>\n",
       "      <td>LEO</td>\n",
       "      <td>498.0</td>\n",
       "      <td>496.0</td>\n",
       "    </tr>\n",
       "  </tbody>\n",
       "</table>\n",
       "</div>"
      ],
      "text/plain": [
       "               Name of Satellite, Alternate Names  NORAD Number  \\\n",
       "Date of Launch                                                    \n",
       "2021-11-06                          Yaogan 35-5-1       49390.0   \n",
       "\n",
       "               Class of Orbit  Apogee (km)  Perigee (km)  \n",
       "Date of Launch                                            \n",
       "2021-11-06                LEO        498.0         496.0  "
      ]
     },
     "execution_count": 17,
     "metadata": {},
     "output_type": "execute_result"
    }
   ],
   "source": [
    "# Fix the orbit data errors\n",
    "\n",
    "df[isUnderApogeeLEO_idx][['Name of Satellite, Alternate Names','NORAD Number', 'Apogee (km)', 'Perigee (km)']]\n",
    "# correct Apogee and Perigee for satellite with NORAD number 49390\n",
    "df.loc[isUnderApogeeLEO_idx,['Apogee (km)', 'Perigee (km)'] ]= [498,496]\n",
    "df[isUnderApogeeLEO_idx][['Name of Satellite, Alternate Names','NORAD Number','Class of Orbit','Apogee (km)', 'Perigee (km)']]"
   ]
  },
  {
   "cell_type": "code",
   "execution_count": 18,
   "metadata": {},
   "outputs": [
    {
     "name": "stdout",
     "output_type": "stream",
     "text": [
      " Number of outliers in columns Apogee, Perigee, for GEO satellites\n",
      "-------------------------------------------------------------------------\n",
      " Number of data points with value more than 38000 km in Apogee or Perigee col: 9\n",
      " Number of data points with value less than 35500 km in Apogee or Perigee col: 17\n"
     ]
    }
   ],
   "source": [
    "## identify outliers in the Apogee and Perigee columns for GEO satellites\n",
    "isOutApogeePerigeeGEO_idx =( ( df['Class of Orbit'] == 'GEO') & ( df['Apogee (km)'] >38000 ) ) | ( ( df['Class of Orbit'] == 'GEO') & ( df['Perigee (km)'] >38000 ) )\n",
    "isUnderApogeeGEO_idx = ( ( df['Class of Orbit'] == 'GEO') & ( df['Apogee (km)'] < 35500 ) ) | ( ( df['Class of Orbit'] == 'GEO') & ( df['Perigee (km)'] <35500 ) )\n",
    "\n",
    "print(' Number of outliers in columns Apogee, Perigee, for GEO satellites')\n",
    "print('-------------------------------------------------------------------------')\n",
    "print(' Number of data points with value more than 38000 km in Apogee or Perigee col: {}'.format(isOutApogeePerigeeGEO_idx.sum()))\n",
    "print(' Number of data points with value less than 35500 km in Apogee or Perigee col: {}'.format(isUnderApogeeGEO_idx.sum()))\n"
   ]
  },
  {
   "cell_type": "code",
   "execution_count": 19,
   "metadata": {},
   "outputs": [
    {
     "data": {
      "text/html": [
       "<div>\n",
       "<style scoped>\n",
       "    .dataframe tbody tr th:only-of-type {\n",
       "        vertical-align: middle;\n",
       "    }\n",
       "\n",
       "    .dataframe tbody tr th {\n",
       "        vertical-align: top;\n",
       "    }\n",
       "\n",
       "    .dataframe thead th {\n",
       "        text-align: right;\n",
       "    }\n",
       "</style>\n",
       "<table border=\"1\" class=\"dataframe\">\n",
       "  <thead>\n",
       "    <tr style=\"text-align: right;\">\n",
       "      <th></th>\n",
       "      <th>Name of Satellite, Alternate Names</th>\n",
       "      <th>NORAD Number</th>\n",
       "      <th>Apogee (km)</th>\n",
       "      <th>Perigee (km)</th>\n",
       "    </tr>\n",
       "    <tr>\n",
       "      <th>Date of Launch</th>\n",
       "      <th></th>\n",
       "      <th></th>\n",
       "      <th></th>\n",
       "      <th></th>\n",
       "    </tr>\n",
       "  </thead>\n",
       "  <tbody>\n",
       "    <tr>\n",
       "      <th>2021-12-19</th>\n",
       "      <td>Turksat 5B</td>\n",
       "      <td>50212.0</td>\n",
       "      <td>68931.0</td>\n",
       "      <td>198.0</td>\n",
       "    </tr>\n",
       "    <tr>\n",
       "      <th>2021-12-13</th>\n",
       "      <td>Express-AMU3</td>\n",
       "      <td>50001.0</td>\n",
       "      <td>52810.0</td>\n",
       "      <td>16324.0</td>\n",
       "    </tr>\n",
       "    <tr>\n",
       "      <th>2021-12-13</th>\n",
       "      <td>Express-AMU7</td>\n",
       "      <td>50002.0</td>\n",
       "      <td>52810.0</td>\n",
       "      <td>16334.0</td>\n",
       "    </tr>\n",
       "    <tr>\n",
       "      <th>2021-10-26</th>\n",
       "      <td>QZS-1R (Quazi-Zenith Satellite System, Michibi...</td>\n",
       "      <td>49336.0</td>\n",
       "      <td>38964.0</td>\n",
       "      <td>32647.0</td>\n",
       "    </tr>\n",
       "    <tr>\n",
       "      <th>2021-10-24</th>\n",
       "      <td>SES-17</td>\n",
       "      <td>49332.0</td>\n",
       "      <td>44654.0</td>\n",
       "      <td>9403.0</td>\n",
       "    </tr>\n",
       "    <tr>\n",
       "      <th>2021-03-12</th>\n",
       "      <td>Shiyan 9 (SY9, Experimental Satellite 9)</td>\n",
       "      <td>47851.0</td>\n",
       "      <td>35835.0</td>\n",
       "      <td>483.0</td>\n",
       "    </tr>\n",
       "    <tr>\n",
       "      <th>2019-12-24</th>\n",
       "      <td>Electro-L3</td>\n",
       "      <td>44903.0</td>\n",
       "      <td>35572.0</td>\n",
       "      <td>35372.0</td>\n",
       "    </tr>\n",
       "    <tr>\n",
       "      <th>2018-04-22</th>\n",
       "      <td>ESPASat ( 286)</td>\n",
       "      <td>43446.0</td>\n",
       "      <td>35306.0</td>\n",
       "      <td>35244.0</td>\n",
       "    </tr>\n",
       "    <tr>\n",
       "      <th>2017-10-09</th>\n",
       "      <td>QZS-4 (Quazi-Zenith Satellite System, Michibik...</td>\n",
       "      <td>42965.0</td>\n",
       "      <td>38943.0</td>\n",
       "      <td>32622.0</td>\n",
       "    </tr>\n",
       "    <tr>\n",
       "      <th>2017-05-31</th>\n",
       "      <td>QZS-2 (Quazi-Zenith Satellite System, Michibik...</td>\n",
       "      <td>42738.0</td>\n",
       "      <td>38910.0</td>\n",
       "      <td>32663.0</td>\n",
       "    </tr>\n",
       "    <tr>\n",
       "      <th>2014-10-21</th>\n",
       "      <td>Express-AM6 (Eutelsat 53A)</td>\n",
       "      <td>40277.0</td>\n",
       "      <td>37636.0</td>\n",
       "      <td>34094.0</td>\n",
       "    </tr>\n",
       "    <tr>\n",
       "      <th>2013-12-26</th>\n",
       "      <td>Express-AM5</td>\n",
       "      <td>39487.0</td>\n",
       "      <td>35940.0</td>\n",
       "      <td>35420.0</td>\n",
       "    </tr>\n",
       "    <tr>\n",
       "      <th>2011-01-20</th>\n",
       "      <td>Electro-L1 (GOMS 2 [Geostationary Operational ...</td>\n",
       "      <td>37344.0</td>\n",
       "      <td>35750.0</td>\n",
       "      <td>35323.0</td>\n",
       "    </tr>\n",
       "    <tr>\n",
       "      <th>2010-10-28</th>\n",
       "      <td>BSAT-3B</td>\n",
       "      <td>37207.0</td>\n",
       "      <td>35725.0</td>\n",
       "      <td>33066.0</td>\n",
       "    </tr>\n",
       "    <tr>\n",
       "      <th>2010-09-11</th>\n",
       "      <td>QZS-1 (Quazi-Zenith Satellite System, Michibik...</td>\n",
       "      <td>37158.0</td>\n",
       "      <td>38950.0</td>\n",
       "      <td>32618.0</td>\n",
       "    </tr>\n",
       "    <tr>\n",
       "      <th>2009-06-27</th>\n",
       "      <td>GOES 14 (Geostationary Operational Environment...</td>\n",
       "      <td>35491.0</td>\n",
       "      <td>35170.0</td>\n",
       "      <td>35170.0</td>\n",
       "    </tr>\n",
       "    <tr>\n",
       "      <th>1996-04-24</th>\n",
       "      <td>Mercury 2 (Advanced Vortex 2,  118)</td>\n",
       "      <td>23855.0</td>\n",
       "      <td>37900.0</td>\n",
       "      <td>33674.0</td>\n",
       "    </tr>\n",
       "  </tbody>\n",
       "</table>\n",
       "</div>"
      ],
      "text/plain": [
       "                               Name of Satellite, Alternate Names  \\\n",
       "Date of Launch                                                      \n",
       "2021-12-19                                             Turksat 5B   \n",
       "2021-12-13                                           Express-AMU3   \n",
       "2021-12-13                                           Express-AMU7   \n",
       "2021-10-26      QZS-1R (Quazi-Zenith Satellite System, Michibi...   \n",
       "2021-10-24                                                 SES-17   \n",
       "2021-03-12               Shiyan 9 (SY9, Experimental Satellite 9)   \n",
       "2019-12-24                                             Electro-L3   \n",
       "2018-04-22                                        ESPASat ( 286)    \n",
       "2017-10-09      QZS-4 (Quazi-Zenith Satellite System, Michibik...   \n",
       "2017-05-31      QZS-2 (Quazi-Zenith Satellite System, Michibik...   \n",
       "2014-10-21                             Express-AM6 (Eutelsat 53A)   \n",
       "2013-12-26                                            Express-AM5   \n",
       "2011-01-20      Electro-L1 (GOMS 2 [Geostationary Operational ...   \n",
       "2010-10-28                                                BSAT-3B   \n",
       "2010-09-11      QZS-1 (Quazi-Zenith Satellite System, Michibik...   \n",
       "2009-06-27      GOES 14 (Geostationary Operational Environment...   \n",
       "1996-04-24                    Mercury 2 (Advanced Vortex 2,  118)   \n",
       "\n",
       "                NORAD Number  Apogee (km)  Perigee (km)  \n",
       "Date of Launch                                           \n",
       "2021-12-19           50212.0      68931.0         198.0  \n",
       "2021-12-13           50001.0      52810.0       16324.0  \n",
       "2021-12-13           50002.0      52810.0       16334.0  \n",
       "2021-10-26           49336.0      38964.0       32647.0  \n",
       "2021-10-24           49332.0      44654.0        9403.0  \n",
       "2021-03-12           47851.0      35835.0         483.0  \n",
       "2019-12-24           44903.0      35572.0       35372.0  \n",
       "2018-04-22           43446.0      35306.0       35244.0  \n",
       "2017-10-09           42965.0      38943.0       32622.0  \n",
       "2017-05-31           42738.0      38910.0       32663.0  \n",
       "2014-10-21           40277.0      37636.0       34094.0  \n",
       "2013-12-26           39487.0      35940.0       35420.0  \n",
       "2011-01-20           37344.0      35750.0       35323.0  \n",
       "2010-10-28           37207.0      35725.0       33066.0  \n",
       "2010-09-11           37158.0      38950.0       32618.0  \n",
       "2009-06-27           35491.0      35170.0       35170.0  \n",
       "1996-04-24           23855.0      37900.0       33674.0  "
      ]
     },
     "execution_count": 19,
     "metadata": {},
     "output_type": "execute_result"
    }
   ],
   "source": [
    "# GOES is interesting because it is a geostationary orbit satellite.\n",
    "\n",
    "df[isUnderApogeeGEO_idx][['Name of Satellite, Alternate Names','NORAD Number', 'Apogee (km)', 'Perigee (km)']]"
   ]
  },
  {
   "cell_type": "code",
   "execution_count": 20,
   "metadata": {},
   "outputs": [
    {
     "name": "stdout",
     "output_type": "stream",
     "text": [
      " Number of outliers in columns Apogee, Perigee, for ELLIPTICAL orbit satellites\n",
      "-------------------------------------------------------------------------\n",
      " Number of data points with value more than 250000 km in Apogee col: 3\n",
      " Number of data points with value less than 250 km in Apogee col: 5\n"
     ]
    }
   ],
   "source": [
    "## identify outliers in the Apogee and Perigee columns\n",
    "isOutApogeePerigeeELL_idx =( ( df['Class of Orbit'] == 'ELLIPTICAL') & ( df['Apogee (km)'] >200000 ) ) | ( ( df['Class of Orbit'] == 'ELLIPTICAL') & ( df['Perigee (km)'] >200000 ) )\n",
    "isUnderApogeeELL_idx = ( df['Class of Orbit'] == 'ELLIPTICAL') & ( df['Apogee (km)'] < 250 ) | ( df['Class of Orbit'] == 'ELLIPTICAL') & ( df['Perigee (km)'] < 250 )\n",
    "\n",
    "print(' Number of outliers in columns Apogee, Perigee, for ELLIPTICAL orbit satellites')\n",
    "print('-------------------------------------------------------------------------')\n",
    "print(' Number of data points with value more than 250000 km in Apogee col: {}'.format(isOutApogeePerigeeELL_idx.sum()))\n",
    "print(' Number of data points with value less than 250 km in Apogee col: {}'.format(isUnderApogeeELL_idx.sum()))"
   ]
  },
  {
   "cell_type": "code",
   "execution_count": 21,
   "metadata": {},
   "outputs": [],
   "source": [
    "# Save the cleaned dataset\n",
    "df.to_csv('full_cleaned_UCS_05-01-2023.csv', index=True)"
   ]
  },
  {
   "cell_type": "markdown",
   "metadata": {},
   "source": [
    "# Filter EO Satellites"
   ]
  },
  {
   "cell_type": "code",
   "execution_count": 22,
   "metadata": {},
   "outputs": [
    {
     "data": {
      "text/plain": [
       "Purpose\n",
       "Earth Observation                                 1238\n",
       "Earth Science                                       28\n",
       "Surveillance                                        20\n",
       "Unknown                                             10\n",
       "Earth Observation/Navigation                         9\n",
       "Earth Observation/Technology Development             7\n",
       "Meteorological                                       6\n",
       "Earth/Space Observation                              4\n",
       "Earth Observation/Communications                     2\n",
       "Earth Observation/Communications/Space Science       1\n",
       "Earth Observation/Earth Science                      1\n",
       "Earth Observation/Space Science                      1\n",
       "Earth Science/Earth Observation                      1\n",
       "Name: count, dtype: int64"
      ]
     },
     "execution_count": 22,
     "metadata": {},
     "output_type": "execute_result"
    }
   ],
   "source": [
    "# Filter the dataframe for the following purpose\n",
    "geospatial_filter_list = [\n",
    "    \"Earth Observation\",\n",
    "    #\"Technology Development\",\n",
    "    #\"Navigation/Global Positioning\",\n",
    "    #\"Technology Demonstration\",\n",
    "    \"Earth Science\",\n",
    "    \"Surveillance\",\n",
    "    #\"Navigation/Regional Positioning\",\n",
    "    \"Unknown\",\n",
    "    \"Earth Observation/Navigation\",\n",
    "    #\"Space Observation\",\n",
    "    \"Earth Observation/Technology Development\",\n",
    "    \"Meteorological\",\n",
    "    #\"Communications/Maritime Tracking\",\n",
    "    \"Earth/Space Observation\",\n",
    "    \"Earth Observation\",\n",
    "    \"Earth Observation/Communications\",\n",
    "    #\"Mission Extension Technology\",\n",
    "    \"Earth Observation/Communications/Space Science\",\n",
    "    \"Earth Science/Earth Observation\",\n",
    "    #\"Communications/Navigation\",\n",
    "    \"Earth Observation/Space Science\",\n",
    "    \"Earth Observation/Earth Science\",\n",
    "    #\"Space Science/Technology Demonstration\",\n",
    "    #\"Satellite Positioning\"\n",
    "]\n",
    "\n",
    "# Filter the dataframe based on the geospatial_filter_list\n",
    "df = df[df['Purpose'].isin(geospatial_filter_list)]\n",
    "\n",
    "# Display the filtered dataframe\n",
    "df.value_counts('Purpose')"
   ]
  },
  {
   "cell_type": "markdown",
   "metadata": {},
   "source": [
    "# Get Orbit Tracks."
   ]
  },
  {
   "cell_type": "code",
   "execution_count": 23,
   "metadata": {},
   "outputs": [],
   "source": [
    "df.to_csv('filtered_UCS-Satellite-Database-5-1-2023.csv')"
   ]
  },
  {
   "cell_type": "code",
   "execution_count": 24,
   "metadata": {},
   "outputs": [
    {
     "data": {
      "text/html": [
       "<div>\n",
       "<style scoped>\n",
       "    .dataframe tbody tr th:only-of-type {\n",
       "        vertical-align: middle;\n",
       "    }\n",
       "\n",
       "    .dataframe tbody tr th {\n",
       "        vertical-align: top;\n",
       "    }\n",
       "\n",
       "    .dataframe thead th {\n",
       "        text-align: right;\n",
       "    }\n",
       "</style>\n",
       "<table border=\"1\" class=\"dataframe\">\n",
       "  <thead>\n",
       "    <tr style=\"text-align: right;\">\n",
       "      <th></th>\n",
       "      <th>Current Official Name of Satellite</th>\n",
       "      <th>Country of Operator/Owner</th>\n",
       "      <th>Operator/Owner</th>\n",
       "      <th>Users</th>\n",
       "      <th>Purpose</th>\n",
       "      <th>Detailed Purpose</th>\n",
       "      <th>Class of Orbit</th>\n",
       "      <th>Type of Orbit</th>\n",
       "      <th>Inclination (degrees)</th>\n",
       "      <th>Period (minutes)</th>\n",
       "      <th>COSPAR Number</th>\n",
       "      <th>NORAD Number</th>\n",
       "      <th>Comments</th>\n",
       "    </tr>\n",
       "    <tr>\n",
       "      <th>Date of Launch</th>\n",
       "      <th></th>\n",
       "      <th></th>\n",
       "      <th></th>\n",
       "      <th></th>\n",
       "      <th></th>\n",
       "      <th></th>\n",
       "      <th></th>\n",
       "      <th></th>\n",
       "      <th></th>\n",
       "      <th></th>\n",
       "      <th></th>\n",
       "      <th></th>\n",
       "      <th></th>\n",
       "    </tr>\n",
       "  </thead>\n",
       "  <tbody>\n",
       "    <tr>\n",
       "      <th>2023-09-01</th>\n",
       "      <td>Tianmu-1 01</td>\n",
       "      <td>China</td>\n",
       "      <td>Xiyong Microelectrics Park</td>\n",
       "      <td>Commercial</td>\n",
       "      <td>Meteorological</td>\n",
       "      <td>NaN</td>\n",
       "      <td>LEO</td>\n",
       "      <td>SUN-SYNCHRONOUS</td>\n",
       "      <td>97.2</td>\n",
       "      <td>95.1</td>\n",
       "      <td>2023-003B</td>\n",
       "      <td>55134.0</td>\n",
       "      <td>https://www.newspace.im/constellations/xyong-m...</td>\n",
       "    </tr>\n",
       "    <tr>\n",
       "      <th>2023-04-15</th>\n",
       "      <td>DEWASAT-2</td>\n",
       "      <td>United Arab Emirates</td>\n",
       "      <td>Dubai Electricity and Water Authority (DEWA)</td>\n",
       "      <td>Government</td>\n",
       "      <td>Earth Observation</td>\n",
       "      <td>Optical Imaging</td>\n",
       "      <td>LEO</td>\n",
       "      <td>SUN-SYNCHRONOUS</td>\n",
       "      <td>97.4</td>\n",
       "      <td>95.1</td>\n",
       "      <td>2023-054C</td>\n",
       "      <td>56180.0</td>\n",
       "      <td>UAE's first earth observation satellite.</td>\n",
       "    </tr>\n",
       "  </tbody>\n",
       "</table>\n",
       "</div>"
      ],
      "text/plain": [
       "               Current Official Name of Satellite Country of Operator/Owner  \\\n",
       "Date of Launch                                                                \n",
       "2023-09-01                            Tianmu-1 01                     China   \n",
       "2023-04-15                              DEWASAT-2      United Arab Emirates   \n",
       "\n",
       "                                              Operator/Owner       Users  \\\n",
       "Date of Launch                                                             \n",
       "2023-09-01                        Xiyong Microelectrics Park  Commercial   \n",
       "2023-04-15      Dubai Electricity and Water Authority (DEWA)  Government   \n",
       "\n",
       "                          Purpose Detailed Purpose Class of Orbit  \\\n",
       "Date of Launch                                                      \n",
       "2023-09-01         Meteorological              NaN            LEO   \n",
       "2023-04-15      Earth Observation  Optical Imaging            LEO   \n",
       "\n",
       "                  Type of Orbit  Inclination (degrees)  Period (minutes)  \\\n",
       "Date of Launch                                                             \n",
       "2023-09-01      SUN-SYNCHRONOUS                   97.2              95.1   \n",
       "2023-04-15      SUN-SYNCHRONOUS                   97.4              95.1   \n",
       "\n",
       "               COSPAR Number  NORAD Number  \\\n",
       "Date of Launch                               \n",
       "2023-09-01         2023-003B       55134.0   \n",
       "2023-04-15         2023-054C       56180.0   \n",
       "\n",
       "                                                         Comments  \n",
       "Date of Launch                                                     \n",
       "2023-09-01      https://www.newspace.im/constellations/xyong-m...  \n",
       "2023-04-15               UAE's first earth observation satellite.  "
      ]
     },
     "execution_count": 24,
     "metadata": {},
     "output_type": "execute_result"
    }
   ],
   "source": [
    "# Remove unused columns\n",
    "\n",
    "df = df[['Current Official Name of Satellite',\n",
    "       'Country of Operator/Owner', 'Operator/Owner', 'Users', 'Purpose',\n",
    "       'Detailed Purpose', 'Class of Orbit', 'Type of Orbit', 'Inclination (degrees)',\n",
    "       'Period (minutes)', 'COSPAR Number', 'NORAD Number', 'Comments']]\n",
    "\n",
    "df.head(2)"
   ]
  },
  {
   "cell_type": "code",
   "execution_count": 25,
   "metadata": {},
   "outputs": [
    {
     "name": "stdout",
     "output_type": "stream",
     "text": [
      "There are 3 satellites without an inclination in the dataset.\n"
     ]
    },
    {
     "data": {
      "text/html": [
       "<div>\n",
       "<style scoped>\n",
       "    .dataframe tbody tr th:only-of-type {\n",
       "        vertical-align: middle;\n",
       "    }\n",
       "\n",
       "    .dataframe tbody tr th {\n",
       "        vertical-align: top;\n",
       "    }\n",
       "\n",
       "    .dataframe thead th {\n",
       "        text-align: right;\n",
       "    }\n",
       "</style>\n",
       "<table border=\"1\" class=\"dataframe\">\n",
       "  <thead>\n",
       "    <tr style=\"text-align: right;\">\n",
       "      <th></th>\n",
       "      <th>NORAD Number</th>\n",
       "      <th>Inclination (degrees)</th>\n",
       "    </tr>\n",
       "    <tr>\n",
       "      <th>Date of Launch</th>\n",
       "      <th></th>\n",
       "      <th></th>\n",
       "    </tr>\n",
       "  </thead>\n",
       "  <tbody>\n",
       "    <tr>\n",
       "      <th>2023-04-15</th>\n",
       "      <td>56209.0</td>\n",
       "      <td>97.38</td>\n",
       "    </tr>\n",
       "    <tr>\n",
       "      <th>2023-03-24</th>\n",
       "      <td>55983.0</td>\n",
       "      <td>42.01</td>\n",
       "    </tr>\n",
       "    <tr>\n",
       "      <th>2023-01-15</th>\n",
       "      <td>55256.0</td>\n",
       "      <td>97.30</td>\n",
       "    </tr>\n",
       "  </tbody>\n",
       "</table>\n",
       "</div>"
      ],
      "text/plain": [
       "                NORAD Number  Inclination (degrees)\n",
       "Date of Launch                                     \n",
       "2023-04-15           56209.0                  97.38\n",
       "2023-03-24           55983.0                  42.01\n",
       "2023-01-15           55256.0                  97.30"
      ]
     },
     "execution_count": 25,
     "metadata": {},
     "output_type": "execute_result"
    }
   ],
   "source": [
    "# Number of EO Satellites with NO inclination\n",
    "text = noInclination_idx =(df['Inclination (degrees)'].isna())\n",
    "print(f'There are {text.sum()} satellites without an inclination in the dataset.')\n",
    "\n",
    "# correct them\n",
    "if text.sum() > 0:\n",
    "    df.loc[noInclination_idx, 'Inclination (degrees)'] = pd.to_numeric([\"97.38\", \"42.01\", \"97.30\"])\n",
    "df.loc[noInclination_idx, ['NORAD Number', 'Inclination (degrees)']]\n"
   ]
  },
  {
   "cell_type": "code",
   "execution_count": 26,
   "metadata": {},
   "outputs": [
    {
     "data": {
      "text/plain": [
       "Purpose\n",
       "Earth Observation                                 1014\n",
       "Earth Science                                       28\n",
       "Surveillance                                        17\n",
       "Meteorological                                       6\n",
       "Earth Observation/Technology Development             6\n",
       "Earth/Space Observation                              4\n",
       "Unknown                                              4\n",
       "Earth Observation/Earth Science                      1\n",
       "Earth Observation/Space Science                      1\n",
       "Earth Science/Earth Observation                      1\n",
       "Earth Observation/Communications/Space Science       1\n",
       "Earth Observation/Communications                     1\n",
       "Name: count, dtype: int64"
      ]
     },
     "execution_count": 26,
     "metadata": {},
     "output_type": "execute_result"
    }
   ],
   "source": [
    "# How many satellites have an inclination greater than 60 degrees?\n",
    "\n",
    "northern_satellites = df[df['Inclination (degrees)'] >  60]\n",
    "northern_satellites['Purpose'].value_counts()"
   ]
  },
  {
   "cell_type": "code",
   "execution_count": 27,
   "metadata": {},
   "outputs": [
    {
     "name": "stdout",
     "output_type": "stream",
     "text": [
      "<class 'pandas.core.frame.DataFrame'>\n",
      "DatetimeIndex: 1084 entries, 2023-09-01 to 1997-04-04\n",
      "Data columns (total 13 columns):\n",
      " #   Column                              Non-Null Count  Dtype   \n",
      "---  ------                              --------------  -----   \n",
      " 0   Current Official Name of Satellite  1084 non-null   object  \n",
      " 1   Country of Operator/Owner           1084 non-null   object  \n",
      " 2   Operator/Owner                      1084 non-null   object  \n",
      " 3   Users                               1084 non-null   object  \n",
      " 4   Purpose                             1084 non-null   object  \n",
      " 5   Detailed Purpose                    961 non-null    object  \n",
      " 6   Class of Orbit                      1084 non-null   category\n",
      " 7   Type of Orbit                       1077 non-null   category\n",
      " 8   Inclination (degrees)               1084 non-null   float64 \n",
      " 9   Period (minutes)                    1076 non-null   float64 \n",
      " 10  COSPAR Number                       1084 non-null   object  \n",
      " 11  NORAD Number                        1084 non-null   float64 \n",
      " 12  Comments                            699 non-null    object  \n",
      "dtypes: category(2), float64(3), object(8)\n",
      "memory usage: 104.3+ KB\n"
     ]
    }
   ],
   "source": [
    "northern_satellites.info()"
   ]
  },
  {
   "cell_type": "code",
   "execution_count": null,
   "metadata": {},
   "outputs": [],
   "source": []
  },
  {
   "cell_type": "code",
   "execution_count": 28,
   "metadata": {},
   "outputs": [
    {
     "name": "stderr",
     "output_type": "stream",
     "text": [
      "/tmp/ipykernel_70197/1053602607.py:5: SettingWithCopyWarning: \n",
      "A value is trying to be set on a copy of a slice from a DataFrame.\n",
      "Try using .loc[row_indexer,col_indexer] = value instead\n",
      "\n",
      "See the caveats in the documentation: https://pandas.pydata.org/pandas-docs/stable/user_guide/indexing.html#returning-a-view-versus-a-copy\n",
      "  filtered_df['Inclination Binned'] = pd.cut(filtered_df['Inclination (degrees)'], bins=range(50, 155, 5),\n"
     ]
    },
    {
     "data": {
      "image/png": "[encoded data removed]",
      "text/plain": [
       "<Figure size 1500x800 with 1 Axes>"
      ]
     },
     "metadata": {},
     "output_type": "display_data"
    }
   ],
   "source": [
    "# Filter the data\n",
    "filtered_df = df[(df['Inclination (degrees)'] >= 50) & (df['Inclination (degrees)'] <= 150)]\n",
    "\n",
    "# Create a new column for binned inclination\n",
    "filtered_df['Inclination Binned'] = pd.cut(filtered_df['Inclination (degrees)'], bins=range(50, 155, 5), \n",
    "                                           labels=[f'{i}-{i+5}' for i in range(50, 150, 5)])\n",
    "\n",
    "# Count the number of satellites in each bin\n",
    "counts = filtered_df['Inclination Binned'].value_counts().sort_index().reset_index()\n",
    "counts.columns = ['Inclination (degrees)', 'Number of Satellites']\n",
    "\n",
    "# Plot a bar chart\n",
    "plt.figure(figsize=(15, 8))\n",
    "sns.barplot(x='Inclination (degrees)', y='Number of Satellites', data=counts)\n",
    "plt.xlabel('Inclination (degrees)')\n",
    "plt.ylabel('Number of EO Satellites')\n",
    "plt.title('Number of EO Satellites by Inclination')\n",
    "plt.xticks(rotation=90)\n",
    "plt.savefig('eo_satellites_by_inclination.png')\n",
    "plt.show()"
   ]
  },
  {
   "cell_type": "code",
   "execution_count": 29,
   "metadata": {},
   "outputs": [
    {
     "data": {
      "image/png": "[encoded data removed]",
      "text/plain": [
       "<Figure size 800x600 with 1 Axes>"
      ]
     },
     "metadata": {},
     "output_type": "display_data"
    }
   ],
   "source": [
    "# Create a cross-tabulation of the number of satellites in each 'Type of Orbit' for each inclination bin\n",
    "df['Inclination Binned'] = pd.cut(df['Inclination (degrees)'], bins=range(50, 150, 5), right=False)\n",
    "cross_tab = pd.crosstab(index=df['Inclination Binned'], columns=df['Type of Orbit'])\n",
    "\n",
    "# Plot a stacked bar chart\n",
    "cross_tab.plot(kind='bar', stacked=True, figsize=(8,6), width=0.5)\n",
    "plt.xlabel('Inclination (degrees)')\n",
    "plt.ylabel('Number of EO Satellites (log scale)')\n",
    "plt.title('Number of EO Satellites by Inclination and Orbit Type')\n",
    "plt.yscale('log')\n",
    "plt.xticks(rotation=90)\n",
    "plt.tight_layout()\n",
    "plt.savefig('eo_satellites_by_inclination_and_orbit_type.png')\n",
    "plt.show()"
   ]
  }
 ],
 "metadata": {
  "kernelspec": {
   "display_name": "sat-orbits",
   "language": "python",
   "name": "python3"
  },
  "language_info": {
   "codemirror_mode": {
    "name": "ipython",
    "version": 3
   },
   "file_extension": ".py",
   "mimetype": "text/x-python",
   "name": "python",
   "nbconvert_exporter": "python",
   "pygments_lexer": "ipython3",
   "version": "3.11.8"
  }
 },
 "nbformat": 4,
 "nbformat_minor": 2
}
